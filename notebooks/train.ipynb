{
 "cells": [
  {
   "cell_type": "code",
   "execution_count": 1,
   "id": "0f2da74b",
   "metadata": {},
   "outputs": [],
   "source": [
    "import sys\n",
    "import argparse\n",
    "\n",
    "import os\n",
    "# This assumes your notebook is inside 'notebooks/' and 'src/' is one level up\n",
    "sys.path.append(os.path.abspath(os.path.join(os.getcwd(), '..')))\n",
    "from src.model_code import train as train_module"
   ]
  },
  {
   "cell_type": "code",
   "execution_count": 2,
   "id": "27e13bd9",
   "metadata": {},
   "outputs": [
    {
     "data": {
      "text/plain": [
       "_StoreAction(option_strings=['--max_iter'], dest='max_iter', nargs=None, const=None, default=1000, type=<class 'int'>, choices=None, required=False, help=None, metavar=None)"
      ]
     },
     "execution_count": 2,
     "metadata": {},
     "output_type": "execute_result"
    }
   ],
   "source": [
    "parser = argparse.ArgumentParser()\n",
    "parser.add_argument('--data-path', default='../src/data/iris_train.csv')\n",
    "parser.add_argument('--model-path', default='../src/models/iris_model.pkl')\n",
    "parser.add_argument('--C', type=float, default=1.0)\n",
    "parser.add_argument('--max_iter', type=int, default=1000)"
   ]
  },
  {
   "cell_type": "code",
   "execution_count": 3,
   "id": "2c1b7c01",
   "metadata": {},
   "outputs": [],
   "source": [
    "args = parser.parse_args(args=[])"
   ]
  },
  {
   "cell_type": "code",
   "execution_count": 4,
   "id": "e6513a12",
   "metadata": {},
   "outputs": [
    {
     "name": "stdout",
     "output_type": "stream",
     "text": [
      "Training complete. Accuracy on training set: 0.9810\n"
     ]
    }
   ],
   "source": [
    "train_module.main(data_path=args.data_path,\n",
    "                  model_path=args.model_path,\n",
    "                  C=args.C,\n",
    "                  max_iter=args.max_iter)"
   ]
  },
  {
   "cell_type": "code",
   "execution_count": null,
   "id": "ba102eab",
   "metadata": {},
   "outputs": [],
   "source": []
  }
 ],
 "metadata": {
  "kernelspec": {
   "display_name": "base",
   "language": "python",
   "name": "python3"
  },
  "language_info": {
   "codemirror_mode": {
    "name": "ipython",
    "version": 3
   },
   "file_extension": ".py",
   "mimetype": "text/x-python",
   "name": "python",
   "nbconvert_exporter": "python",
   "pygments_lexer": "ipython3",
   "version": "3.11.5"
  }
 },
 "nbformat": 4,
 "nbformat_minor": 5
}
