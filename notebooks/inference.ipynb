{
 "cells": [
  {
   "cell_type": "code",
   "execution_count": 1,
   "id": "62f9f394",
   "metadata": {},
   "outputs": [],
   "source": [
    "import argparse\n",
    "from types import SimpleNamespace\n",
    "import os\n",
    "import sys\n",
    "\n",
    "sys.path.append(os.path.abspath(os.path.join('..')))\n",
    "\n",
    "from src.model_code import inference as infer_module"
   ]
  },
  {
   "cell_type": "code",
   "execution_count": 2,
   "id": "a2201f4c",
   "metadata": {},
   "outputs": [],
   "source": [
    "args = SimpleNamespace(\n",
    "    data_path_features='../src/data/iris_inference_features.csv',\n",
    "    data_path_target='../src/data/iris_inference_target.csv',\n",
    "    model_path='../src/models/iris_model.pkl',\n",
    "    output_path='../src/data/iris_predictions.csv'\n",
    ")"
   ]
  },
  {
   "cell_type": "code",
   "execution_count": 3,
   "id": "d5b3dfff",
   "metadata": {},
   "outputs": [
    {
     "name": "stdout",
     "output_type": "stream",
     "text": [
      "=== Inference Accuracy: 0.9111 ===\n",
      "Predictions saved to: ../src/data/iris_predictions.csv\n"
     ]
    }
   ],
   "source": [
    "infer_module.main(\n",
    "    data_path_features=args.data_path_features,\n",
    "    data_path_target=args.data_path_target,\n",
    "    model_path=args.model_path,\n",
    "    output_path=args.output_path\n",
    ")"
   ]
  },
  {
   "cell_type": "code",
   "execution_count": null,
   "id": "6a11c91b",
   "metadata": {},
   "outputs": [],
   "source": []
  }
 ],
 "metadata": {
  "kernelspec": {
   "display_name": "base",
   "language": "python",
   "name": "python3"
  },
  "language_info": {
   "codemirror_mode": {
    "name": "ipython",
    "version": 3
   },
   "file_extension": ".py",
   "mimetype": "text/x-python",
   "name": "python",
   "nbconvert_exporter": "python",
   "pygments_lexer": "ipython3",
   "version": "3.11.5"
  }
 },
 "nbformat": 4,
 "nbformat_minor": 5
}
